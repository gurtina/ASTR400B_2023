{
 "cells": [
  {
   "cell_type": "markdown",
   "id": "13db99f5",
   "metadata": {},
   "source": [
    "# Jupyter Introduction"
   ]
  },
  {
   "cell_type": "markdown",
   "id": "a9c94ee5",
   "metadata": {},
   "source": [
    "Welcome to Jupyter! These notebooks use a cell-based format to let you put text and code into the same document together, and to run your code in chunks. The type of a cell can be changed using the dropdown menu in the toolbar above.\n",
    "\n",
    "This is a markdown cell, which uses the markdown language to format text. Try double-clicking on this cell to see what the input code looks like. To run this (or any) cell and format the text, use the \"run\" button above, or use shift+enter. Markdown lets you format things like:\n",
    "\n",
    "# Headings\n",
    "\n",
    "## Subheadings\n",
    "\n",
    "### Subsubheadings\n",
    "\n",
    "*Italic text*\n",
    "\n",
    "**Bold text**\n",
    "\n",
    "`text that looks like code`\n",
    "\n",
    "Equations using LaTeX, both inline: $\\vec{F}_g = \\frac{G m_1 m_2 \\vec{r}}{r^3}$ and centered on their own lines:\n",
    "\n",
    "$$\n",
    "\\nabla^2 V = 4 \\pi G (\\rho - \\bar{\\rho})\n",
    "$$\n",
    "\n",
    "* bullet points\n",
    "    * with different levels\n",
    "1. numbered lists  \n",
    "    a. with different levels\n",
    "   \n",
    "    \n",
    "[hyperlinks](https://www.markdownguide.org/) - click this for the markdown documentation. \n",
    "\n",
    "That should be most of what you need for general formatting, but check out the link above for much more, like inserting images, tables, and footnotes!"
   ]
  },
  {
   "cell_type": "code",
   "execution_count": null,
   "id": "a6bf1c5a",
   "metadata": {},
   "outputs": [],
   "source": [
    "# This is a code cell. We'll be using Python 3 in this class, \n",
    "# but jupyter is compatible with over 40 different languages! \n",
    "# The language of the current notebook is shown at the top right of the page. \n",
    "\n",
    "# code cells let you run code, and will automatically place the result\n",
    "# of the last line in the cell into an output cell:\n",
    "\n",
    "import numpy as np \n",
    "\n",
    "x = 5.\n",
    "y = 2. \n",
    "\n",
    "z = x - y\n",
    "np.sin(z)"
   ]
  },
  {
   "cell_type": "code",
   "execution_count": null,
   "id": "d0d237f2",
   "metadata": {},
   "outputs": [],
   "source": [
    "# Output cells won't be generated if you assign the result to a variable:\n",
    "sin_z = np.sin(z)"
   ]
  },
  {
   "cell_type": "markdown",
   "id": "dbabcdea",
   "metadata": {},
   "source": [
    "Note that the scope of any variable is the **entire notebook** by default. This is handy because you can use variables from previously-run cells anywhere else:"
   ]
  },
  {
   "cell_type": "code",
   "execution_count": null,
   "id": "9d02017c",
   "metadata": {},
   "outputs": [],
   "source": [
    "print(x, y, z, sin_z)"
   ]
  },
  {
   "cell_type": "markdown",
   "id": "c21ece00",
   "metadata": {},
   "source": [
    "But, this means that **the order in which you run cells matters!** Try running the cell below, then re-run the cell above. We can change the result of previous cells by running things out of order, which can create problems if you're not careful! To be safe, avoid changing the value of a variable in more than one cell if possible. I also reccommend re-running the entire notebook in order (by using the double-arrow button in the toolbar) and double-checking your results before you submit your code."
   ]
  },
  {
   "cell_type": "code",
   "execution_count": null,
   "id": "7bd090bd",
   "metadata": {},
   "outputs": [],
   "source": [
    "# try running this cell, then run the previous code cell. \n",
    "# Notice how we can change the result of our code by running cells out of order\n",
    "x = 10.\n",
    "y = \"a string\"\n",
    "z = {\"a\": \"dictionary\"}"
   ]
  },
  {
   "cell_type": "markdown",
   "id": "41fbc133",
   "metadata": {},
   "source": [
    "# Astropy"
   ]
  },
  {
   "cell_type": "markdown",
   "id": "78883a13",
   "metadata": {},
   "source": [
    "To practice, I'll show you a very useful python package, called **Astropy**. Astropy, as the name suggests, is a python package written by astronomers that makes many common tasks in astronomical programming much easier. For example, it has built-in functions for reading, writing, and working with FITS files (the most common file format for astronomical images), working with different kinds of coordinate systems, and for doing statistical analysis of data. Today, we'll focus on perhaps the most useful part of astropy, which is its ability to automatically keep track of and convert between units!\n",
    "\n",
    "Here's a link https://docs.astropy.org/en/stable/index.html to the astropy documentation for your reference."
   ]
  },
  {
   "cell_type": "code",
   "execution_count": null,
   "id": "2c785332",
   "metadata": {},
   "outputs": [],
   "source": [
    "# first, we need to import the constants and units packages from astropy\n",
    "from astropy import units as u\n",
    "from astropy import constants as const"
   ]
  },
  {
   "cell_type": "markdown",
   "id": "0fb69a01",
   "metadata": {},
   "source": [
    "The constants package stores information on a large number of physical constants. Usually, constants are referenced within astropy by their common symbols. For a full list of all the constants astropy has as well as their names within astropy, see https://docs.astropy.org/en/stable/constants/index.html."
   ]
  },
  {
   "cell_type": "code",
   "execution_count": null,
   "id": "7e7c2360",
   "metadata": {},
   "outputs": [],
   "source": [
    "# Let's look a few:\n",
    "print(const.G, \"\\n\")\n",
    "print(const.h, \"\\n\")\n",
    "print(const.c, \"\\n\")\n",
    "print(const.sigma_sb)"
   ]
  },
  {
   "cell_type": "markdown",
   "id": "6e0b057c",
   "metadata": {},
   "source": [
    "Note that not only does astropy store the value of the constants, it has the name, units, measurement uncertainty, and the source for all of that information! All of the astropy constants are a kind of object that Astropy calles a **quantity**, which carries and propagates units as well as the value of the quantity. "
   ]
  },
  {
   "cell_type": "code",
   "execution_count": null,
   "id": "302452da",
   "metadata": {},
   "outputs": [],
   "source": [
    "# to access either part of a quantity individually, use\n",
    "print(const.G.value)\n",
    "print(const.G.unit)"
   ]
  },
  {
   "cell_type": "markdown",
   "id": "ba9db7c4",
   "metadata": {},
   "source": [
    "You can also make your own quantities using the **units** package! To do so, simply multiply a number by the units you want it to have. Like constants, units are usually referenced by their common abbreviations, but see https://docs.astropy.org/en/stable/units/index.html for the full list. Astropy supports both SI and cgs units, and usually supports metric prefixes. For example, the distance from the Sun to the Galactic Center is"
   ]
  },
  {
   "cell_type": "code",
   "execution_count": null,
   "id": "1507ebd0",
   "metadata": {},
   "outputs": [],
   "source": [
    "R_sun = 8.122 * u.kpc\n",
    "R_sun"
   ]
  },
  {
   "cell_type": "markdown",
   "id": "42163cf4",
   "metadata": {},
   "source": [
    "Calculations with quantities will automatically propagate the units! For example, let's also input the Sun's orbital velocity about the Galactic Center and use that to calculate the mass of the Milky Way that lies interior to the Sun's orbit:"
   ]
  },
  {
   "cell_type": "code",
   "execution_count": null,
   "id": "22721cad",
   "metadata": {},
   "outputs": [],
   "source": [
    "# solar velocity\n",
    "v_sun = 246.06 * u.km/u.s\n",
    "\n",
    "# sometimes, it's also useful to relabel your constants, or just import them individually to save you \n",
    "# from typing the const prefix every time\n",
    "G = const.G\n",
    "\n",
    "# calculate mass interior to Sun's orbit\n",
    "M = v_sun**2 * R_sun / G\n",
    "print(M)"
   ]
  },
  {
   "cell_type": "markdown",
   "id": "8ec10832",
   "metadata": {},
   "source": [
    "You'll notice that astropy carried all the units through for us - but that's a pretty unreadable unit of mass if you ask me! Why did it come out like that? You'll see above that G is stored in astropy in SI units, but I gave the other quantities in kiloparsecs and kilometers per second. By default, astropy only simplifies identical units - you'll notice the seconds cancelled, but km$^2$ kpc / m$^3$ didn't cancel, even though we have three length units in both the numerator and denominator. To make astropy simplify different units that measure the same thing, use decompose():"
   ]
  },
  {
   "cell_type": "code",
   "execution_count": null,
   "id": "dd393615",
   "metadata": {},
   "outputs": [],
   "source": [
    "print(M.decompose())"
   ]
  },
  {
   "cell_type": "markdown",
   "id": "396ba63e",
   "metadata": {},
   "source": [
    "Now it looks like a mass, but what if we still want it in something more intuitive like solar masses? Just use the to() method with the desired unit:"
   ]
  },
  {
   "cell_type": "code",
   "execution_count": null,
   "id": "4ebe34f6",
   "metadata": {},
   "outputs": [],
   "source": [
    "print(M.to(u.M_sun))"
   ]
  },
  {
   "cell_type": "markdown",
   "id": "be9ff027",
   "metadata": {},
   "source": [
    "That's the basics, but as always, I encourage you to [**read the documentation**](https://docs.astropy.org/en/stable/index.html) for more information!"
   ]
  },
  {
   "cell_type": "markdown",
   "id": "a0e69382",
   "metadata": {},
   "source": [
    "# Exercise"
   ]
  },
  {
   "cell_type": "markdown",
   "id": "f570dd81",
   "metadata": {},
   "source": [
    "Use astropy's built-in constants to calculate the Earth's orbital velocity around the Sun in both km/s and AU/year. Hint: the equation you need is \n",
    "\n",
    "$$\n",
    "v_{circ} = \\sqrt{\\frac{GM}{r}}\n",
    "$$"
   ]
  },
  {
   "cell_type": "code",
   "execution_count": null,
   "id": "ab392894",
   "metadata": {},
   "outputs": [],
   "source": []
  }
 ],
 "metadata": {
  "kernelspec": {
   "display_name": "Python 3",
   "language": "python",
   "name": "python3"
  },
  "language_info": {
   "codemirror_mode": {
    "name": "ipython",
    "version": 3
   },
   "file_extension": ".py",
   "mimetype": "text/x-python",
   "name": "python",
   "nbconvert_exporter": "python",
   "pygments_lexer": "ipython3",
   "version": "3.8.8"
  }
 },
 "nbformat": 4,
 "nbformat_minor": 5
}
